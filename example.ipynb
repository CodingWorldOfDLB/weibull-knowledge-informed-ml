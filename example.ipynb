{
 "cells": [
  {
   "cell_type": "markdown",
   "id": "4e5393ef-09d4-4223-bfdf-4bfedaf1f039",
   "metadata": {},
   "source": [
    "# Knowledge Informed Machine Learning using a Weibull-based Loss Function\n",
    "> Exploring the concept of knowledge-informed machine learning with the use of a Weibull-based loss function. Used to predict remaining useful life (RUL) on the [IMS](https://ti.arc.nasa.gov/tech/dash/groups/pcoe/prognostic-data-repository/#bearing) and [PRONOSTIA](https://ti.arc.nasa.gov/tech/dash/groups/pcoe/prognostic-data-repository/#femto) (also called FEMTO) bearing data sets.\n",
    "\n",
    "This notebook reproduces the results from the paper \"Knowledge Informed Machine Learning using a Weibull-based Loss Function\". The notebook also provides additional data exploration and explanation of the code used in the experiments.\n",
    "\n",
    "If you have any questions, feel free to reach out or leave a question in the [discussions](https://github.com/tvhahn/weibull-knowledge-informed/discussions).\n",
    "\n",
    "**Table of Contents**\n",
    "* [1. Download Data (colab)](#1.-Download-Data-(colab))"
   ]
  },
  {
   "cell_type": "markdown",
   "id": "d67168fd-6e21-405a-80ac-9078f4dbd3ec",
   "metadata": {},
   "source": [
    "# 1. Download Data (colab)"
   ]
  },
  {
   "cell_type": "code",
   "execution_count": null,
   "id": "1511f80d-8578-428f-b502-1c1d508aafc1",
   "metadata": {},
   "outputs": [],
   "source": [
    "!git clone https://github.com/tvhahn/weibull-knowledge-informed.git\n",
    "\n",
    "# move into EarthGAN folder\n",
    "%cd weibull-knowledge-informed\n",
    "\n",
    "# make editable\n",
    "!pip install -e ."
   ]
  },
  {
   "cell_type": "code",
   "execution_count": 1,
   "id": "0d466189-1585-436f-a6c1-f2f7c1f21577",
   "metadata": {},
   "outputs": [],
   "source": [
    "import numpy as np\n",
    "\n",
    "from IPython.display import clear_output, display # clear the output if needed"
   ]
  },
  {
   "cell_type": "markdown",
   "id": "773f262f-aa96-4ac6-b87d-6cbd92a77ef8",
   "metadata": {},
   "source": [
    "Download the IMS and PRONOSTIA (FEMTO) bearing data sets from the NASA Prognostics Repository."
   ]
  },
  {
   "cell_type": "code",
   "execution_count": null,
   "id": "8f319966-3f96-4bd4-9a10-3fd65e4aac66",
   "metadata": {},
   "outputs": [],
   "source": [
    "!bash /content/weibull-knowledge-informed/src/data/download_data_local.sh /content/weibull-knowledge-informed"
   ]
  },
  {
   "cell_type": "markdown",
   "id": "35931875-b087-4590-9e3f-1d131d065301",
   "metadata": {},
   "source": [
    "Extract the downloaded data. You will have to answer several prompts to replace folders. **Answer [A]ll.**\n",
    "\n",
    "(note: will take several minutes to extract)"
   ]
  },
  {
   "cell_type": "code",
   "execution_count": null,
   "id": "1acd01eb-8b6a-4fce-afcc-0f7f27d21f4a",
   "metadata": {},
   "outputs": [],
   "source": [
    "!bash /content/weibull-knowledge-informed/src/data/extract_data_local.sh /content/weibull-knowledge-informed"
   ]
  },
  {
   "cell_type": "markdown",
   "id": "facd110e-1867-4dd6-be33-5290892069eb",
   "metadata": {},
   "source": [
    "Now we will create the train/val/test data sets used to train the models."
   ]
  },
  {
   "cell_type": "code",
   "execution_count": null,
   "id": "7b0346c0-12a8-4210-a978-1bafe699717a",
   "metadata": {},
   "outputs": [],
   "source": [
    "!python /content/weibull-knowledge-informed/src/data/make_dataset.py data/raw data/processed"
   ]
  },
  {
   "cell_type": "markdown",
   "id": "1c013a9d-549a-4d61-b739-76cecaac9b70",
   "metadata": {},
   "source": [
    "And train some models as an example (we'll use the IMS data set)."
   ]
  },
  {
   "cell_type": "code",
   "execution_count": null,
   "id": "8b4622ef-66f7-4fe4-b7c8-fd36fd90b9fd",
   "metadata": {},
   "outputs": [],
   "source": [
    "!python /content/weibull-knowledge-informed/src/models/train_models.py \\\n",
    "--data_set ims \\\n",
    "--path_data data/processed \\\n",
    "--proj_dir /content/weibull-knowledge-informed/"
   ]
  }
 ],
 "metadata": {
  "kernelspec": {
   "display_name": "Python 3",
   "language": "python",
   "name": "python3"
  },
  "language_info": {
   "codemirror_mode": {
    "name": "ipython",
    "version": 3
   },
   "file_extension": ".py",
   "mimetype": "text/x-python",
   "name": "python",
   "nbconvert_exporter": "python",
   "pygments_lexer": "ipython3",
   "version": "3.8.10"
  },
  "toc-autonumbering": false,
  "toc-showmarkdowntxt": false,
  "toc-showtags": false
 },
 "nbformat": 4,
 "nbformat_minor": 5
}
