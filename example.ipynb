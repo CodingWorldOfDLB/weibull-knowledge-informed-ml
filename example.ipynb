{
 "cells": [
  {
   "cell_type": "code",
   "execution_count": null,
   "id": "1511f80d-8578-428f-b502-1c1d508aafc1",
   "metadata": {},
   "outputs": [],
   "source": [
    "!git clone https://github.com/tvhahn/weibull-knowledge-informed.git\n",
    "\n",
    "# move into EarthGAN folder\n",
    "%cd weibull-knowledge-informed\n",
    "\n",
    "# make editable\n",
    "!pip install -e ."
   ]
  },
  {
   "cell_type": "code",
   "execution_count": null,
   "id": "0d466189-1585-436f-a6c1-f2f7c1f21577",
   "metadata": {},
   "outputs": [],
   "source": []
  }
 ],
 "metadata": {
  "kernelspec": {
   "display_name": "Python 3",
   "language": "python",
   "name": "python3"
  },
  "language_info": {
   "codemirror_mode": {
    "name": "ipython",
    "version": 3
   },
   "file_extension": ".py",
   "mimetype": "text/x-python",
   "name": "python",
   "nbconvert_exporter": "python",
   "pygments_lexer": "ipython3",
   "version": "3.8.10"
  }
 },
 "nbformat": 4,
 "nbformat_minor": 5
}
